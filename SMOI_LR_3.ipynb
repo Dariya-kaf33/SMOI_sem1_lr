{
 "cells": [
  {
   "cell_type": "markdown",
   "metadata": {},
   "source": [
    "# Лабораторная работа №3\n",
    "### Оценивание параметров нелинейного объекта методом наименьших квадратов"
   ]
  },
  {
   "cell_type": "markdown",
   "metadata": {},
   "source": [
    "Уравнение исследуемого в лабораторной работе объекта имеет вид:\n",
    "    \\begin{equation}y=f(t,A,B,C,D,E)=A\\exp(Bt)\\cos(Ct+D)+E+\\eta\\end{equation}\n",
    "Уравнение модели объекта:\n",
    "    \\begin{equation}\\tilde{y}=\\tilde{A}\\exp(\\tilde{B}t)\\cos(\\tilde{C}t+\\tilde{D})+\\tilde{E}\\end{equation}\n",
    "Видно, что объект нелинеен по параметрам $A,B,C,D,E$. \n",
    "Данные параметры подлежат оцениванию, $t$ — единственная предикторная переменная, а $\\eta$ — случайная ошибка, удовлетворяющая\n",
    "обычным предположениям: $ E(\\eta) = 0, D(\\eta)= \\sigma^2 $.\n",
    "\n",
    "Найти оценки параметров $A,B,C,D,E$ предлагается с помощью применения МНК к линеаризованному объекту."
   ]
  },
  {
   "cell_type": "markdown",
   "metadata": {},
   "source": [
    "Для линеаризации объекта нужны частные производные от уравнения модели объекта по каждому из параметров. "
   ]
  },
  {
   "cell_type": "markdown",
   "metadata": {},
   "source": [
    "Вычислите эти частные производные и запишите уравнение модели линеаризованного объекта:\n",
    "\n",
    "$$\\frac{\\partial y}{\\partial A} = ... $$\n",
    "$$\\frac{\\partial y}{\\partial B} = ... $$ \n",
    "$$\\frac{\\partial y}{\\partial C} = ... $$\n",
    "$$\\frac{\\partial y}{\\partial D} = ... $$\n",
    "$$\\frac{\\partial y}{\\partial E} = ... $$\n",
    "\n",
    "$$y= ... $$"
   ]
  },
  {
   "cell_type": "markdown",
   "metadata": {},
   "source": [
    "Теперь перейдем к обработке измерений, полученных c объекта.\n",
    "Подключим необходимые для работы библиотеки и считаем данные из файла с измерениями."
   ]
  },
  {
   "cell_type": "code",
   "execution_count": 3,
   "metadata": {
    "collapsed": true
   },
   "outputs": [],
   "source": [
    "import numpy as np\n",
    "import csv"
   ]
  },
  {
   "cell_type": "code",
   "execution_count": 8,
   "metadata": {},
   "outputs": [
    {
     "name": "stdout",
     "output_type": "stream",
     "text": [
      "Populating the interactive namespace from numpy and matplotlib\n"
     ]
    }
   ],
   "source": [
    "import matplotlib.pyplot as plt\n",
    "%pylab inline"
   ]
  },
  {
   "cell_type": "code",
   "execution_count": 5,
   "metadata": {
    "collapsed": true
   },
   "outputs": [],
   "source": [
    "import pandas as pd"
   ]
  },
  {
   "cell_type": "code",
   "execution_count": null,
   "metadata": {
    "collapsed": true
   },
   "outputs": [],
   "source": [
    "filename=''"
   ]
  },
  {
   "cell_type": "code",
   "execution_count": 6,
   "metadata": {
    "collapsed": true
   },
   "outputs": [],
   "source": [
    "data = pd.read_csv(filename, sep=';',header=None, names=['t', 'U'])"
   ]
  },
  {
   "cell_type": "code",
   "execution_count": 10,
   "metadata": {
    "collapsed": true
   },
   "outputs": [],
   "source": [
    "#Если необходимо перевести время в другую единицу измерения\n",
    "#data['t']=data['t']/1000 # перевод колонки t в мсек"
   ]
  },
  {
   "cell_type": "markdown",
   "metadata": {},
   "source": [
    "Построим зависимость измеpений от времени:"
   ]
  },
  {
   "cell_type": "code",
   "execution_count": 11,
   "metadata": {},
   "outputs": [
    {
     "data": {
      "image/png": "[encoded data removed]",
      "text/plain": [
       "<matplotlib.figure.Figure at 0x8b1c710>"
      ]
     },
     "metadata": {},
     "output_type": "display_data"
    }
   ],
   "source": [
    "plt.plot(data.t,data.U)\n",
    "plt.grid(True)"
   ]
  },
  {
   "cell_type": "markdown",
   "metadata": {},
   "source": [
    "Исходя из графика и уравнения объекта, подберите начальное приближение:\n",
    "$A_{0},B_{0},C_{0},D_{0},E_{0}$\n",
    "\n",
    "ПРИМЕЧАНИЕ: если в процессе оценивания параметров МНК разойдется, то возможно стоит выбрать более точное начальное приближение."
   ]
  },
  {
   "cell_type": "code",
   "execution_count": 19,
   "metadata": {
    "collapsed": true
   },
   "outputs": [],
   "source": [
    "#Ваш код здесь\n",
    "# A_0 = ... "
   ]
  },
  {
   "cell_type": "markdown",
   "metadata": {},
   "source": [
    "Определите функции, возвращающие значения частных производных:"
   ]
  },
  {
   "cell_type": "code",
   "execution_count": 8,
   "metadata": {
    "collapsed": true
   },
   "outputs": [],
   "source": [
    "#Ваш код здесь\n",
    "#def dFdA(...):\n",
    "#    return ..."
   ]
  },
  {
   "cell_type": "markdown",
   "metadata": {},
   "source": [
    "Реализуйте МНК для линеаризованного объекта и найдите оценку параметров: $\\tilde{A},\\tilde{B},\\tilde{C},\\tilde{D},\\tilde{E}$"
   ]
  },
  {
   "cell_type": "code",
   "execution_count": 1,
   "metadata": {
    "collapsed": true
   },
   "outputs": [],
   "source": [
    "#Ваш код здесь"
   ]
  },
  {
   "cell_type": "markdown",
   "metadata": {},
   "source": [
    "Постройте графики для исходных измерений и полученной модели объекта:"
   ]
  },
  {
   "cell_type": "code",
   "execution_count": 2,
   "metadata": {
    "collapsed": true
   },
   "outputs": [],
   "source": [
    "#Ваш код здесь"
   ]
  },
  {
   "cell_type": "markdown",
   "metadata": {},
   "source": [
    "Постройте график остатков и сделайте выводы о применимости линеаризации для оценки параметров нелинейных объектов:"
   ]
  },
  {
   "cell_type": "code",
   "execution_count": 3,
   "metadata": {
    "collapsed": true
   },
   "outputs": [],
   "source": [
    "#Ваш код здесь"
   ]
  },
  {
   "cell_type": "markdown",
   "metadata": {},
   "source": [
    "**После выполнения лабораторной работы необходимо написать краткий отчет, который должен включать в себя:**\n",
    "    - титульный лист\n",
    "    - описание моделируемого объекта\n",
    "    - математические выкладки о применении МНК для оценки параметров моделируемого объекта\n",
    "    - выводы о применимости линеаризации для оценки параметров нелинейных объектов"
   ]
  }
 ],
 "metadata": {
  "kernelspec": {
   "display_name": "Python 3",
   "language": "python",
   "name": "python3"
  },
  "language_info": {
   "codemirror_mode": {
    "name": "ipython",
    "version": 3
   },
   "file_extension": ".py",
   "mimetype": "text/x-python",
   "name": "python",
   "nbconvert_exporter": "python",
   "pygments_lexer": "ipython3",
   "version": "3.6.1"
  }
 },
 "nbformat": 4,
 "nbformat_minor": 2
}
