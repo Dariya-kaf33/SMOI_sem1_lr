{
 "cells": [
  {
   "cell_type": "markdown",
   "metadata": {},
   "source": [
    "# Лабораторная работа №2\n",
    "### Оценивание параметров линейного стационарного объекта методом наименьших квадратов – рекуррентная форма"
   ]
  },
  {
   "cell_type": "markdown",
   "metadata": {},
   "source": [
    "Пусть мы опять рассматриваем линейный регрессионный объект: \n",
    "$$ \\large y(i)=с_{0}+с_{1}u_{1}(i)+...+с_{4}u_{4}(i)+\\eta(i) \\quad (1), $$  \n",
    "\n",
    "где шум $ \\large \\eta(i)$, действующий на объект, принадлежит классу нормального распределения с параметрами: $\\large N(0, 0.5)$.\n",
    "\n",
    "> Параметры c0, c1, ... выбираются в соотвествии с вашим вариантом."
   ]
  },
  {
   "cell_type": "code",
   "execution_count": null,
   "metadata": {},
   "outputs": [],
   "source": [
    "# параметры объекта \n",
    "с0=...\n",
    "с1=...\n",
    "с2=...\n",
    "с3=...\n",
    "с4=..."
   ]
  },
  {
   "cell_type": "code",
   "execution_count": null,
   "metadata": {},
   "outputs": [],
   "source": [
    "# количество измерений\n",
    "N=200"
   ]
  },
  {
   "cell_type": "markdown",
   "metadata": {},
   "source": [
    "Представим, что наблюдения входов и выходов объекта нам поступают последовательно, и мы хотим не ждать какое-то время и копить измерения, а хотим получать оценку параметров объекта  $ \\large \\vec{\\hat{c}_{LS}} $  сразу, используя в качестве старта свое начальное приближение $\\large \\vec{\\hat{c}}(0)$."
   ]
  },
  {
   "cell_type": "markdown",
   "metadata": {},
   "source": [
    "Для получения оценок таким образом подходит **рекуррентный МНК**. \n",
    "При идентификация параметров линейного регрессионного объекта соотношения для рекуррентного МНК выглядят следующим образом:\n",
    "$$ \\large \\vec{\\hat{c}_{LS}}(i+1) = \\vec{\\hat{c}_{LS}}(i) + K(i+1)(y(i)-\\vec{u}^{T}(i)\\vec{\\hat{c}_{LS}}(i)) $$\n",
    "$$ $$\n",
    "$$ \\large K(i+1) = P(i)\\vec{u}(i)\\frac{1}{\\frac{1}{r(i)}+\\vec{u}^{T}(i)P(i)\\vec{u}(i)} $$\n",
    "$$ $$\n",
    "$$ \\large P(i+1) = P(i) - \\frac{1}{\\frac{1}{r(i)}+\\vec{u}^{T}(i)P(i)\\vec{u}(i)}P(i)\\vec{u}(i)\\vec{u}^{T}(i)P(i) $$"
   ]
  },
  {
   "cell_type": "markdown",
   "metadata": {},
   "source": [
    "Для запуска рекуррентного процесса необходимо задать начальные приближения $\\large \\vec{\\hat{c}}_{LS}(0)$ и $\\large P(0)$. Задать их можно разными способами, но будем пользоваться следующим подходом:\n",
    "> чем хуже начальные приближения $\\vec{\\hat{c}_{LS}}(0)$, тем больше должна быть матрица $P(0)$. Матрицу $P(0)$ будем задавать в виде: $P(0)= \\lambda I $, где $\\lambda$ — некоторое число, выбираемое в соответствии с тем, насколько плохи начальные приближения, $I$ - единичная матрица."
   ]
  },
  {
   "cell_type": "markdown",
   "metadata": {},
   "source": [
    "### Зададим параметры входов объекта и смоделируем его выход"
   ]
  },
  {
   "cell_type": "code",
   "execution_count": null,
   "metadata": {},
   "outputs": [],
   "source": [
    "import numpy as np\n",
    "import matplotlib.pyplot as plt\n",
    "%matplotlib inline"
   ]
  },
  {
   "cell_type": "markdown",
   "metadata": {},
   "source": [
    "Задайте параметры входов объекта и шума, действующего на него:"
   ]
  },
  {
   "cell_type": "code",
   "execution_count": null,
   "metadata": {},
   "outputs": [],
   "source": [
    "#Ваш код здесь\n",
    "Avg_U1=...\n",
    "Var_U1=...\n",
    "Avg_U2=...\n",
    "Var_U2=...\n",
    "Avg_U3=...\n",
    "Var_U3=...\n",
    "Avg_U4=...\n",
    "Var_U4=...\n",
    "\n",
    "#Ваш код здесь\n",
    "Avg_noise=...\n",
    "Var_noise=..."
   ]
  },
  {
   "cell_type": "markdown",
   "metadata": {},
   "source": [
    "Генерация значений входов и шума:"
   ]
  },
  {
   "cell_type": "code",
   "execution_count": null,
   "metadata": {},
   "outputs": [],
   "source": [
    "#Ваш код здесь\n",
    "U1=np.random.normal(Avg_U1, Var_U1, N)\n",
    "U2=np.random.normal(Avg_U2, Var_U2, N)\n",
    "U3=np.random.normal(Avg_U3, Var_U3, N)\n",
    "U4=np.random.normal(Avg_U4, Var_U4, N)\n",
    "Noise=np.random.normal(Avg_noise, Var_noise, N)"
   ]
  },
  {
   "cell_type": "code",
   "execution_count": null,
   "metadata": {},
   "outputs": [],
   "source": [
    "# моделирование выхода объекта\n",
    "y=с0+с1*U1+с2*U2+с3*U3+с4*U4+Noise"
   ]
  },
  {
   "cell_type": "code",
   "execution_count": null,
   "metadata": {},
   "outputs": [],
   "source": [
    "plt.plot(y)\n",
    "plt.grid()"
   ]
  },
  {
   "cell_type": "markdown",
   "metadata": {},
   "source": [
    "### Оценивание параметров объекта с помощью рекуррентного МНК \n",
    "1. Создайте __class RecurrentMLS__ с методами: <br>\n",
    "\n",
    "    * в конструкторе класса небходимо задать:<br>\n",
    "     ` λ ` - параметр в формуле задания начального приближения матрицы P(0) = λ*I <br><br>\n",
    "\n",
    "    * __def fit(U, y, c0)__ - метод реализует алгоритм итерационного оценивания параметов объекта с использованием квадратичной функции потерь (см. описание выше):<br>\n",
    "         ```\n",
    "        Input:\n",
    "            U - матрица входов объекта, [X] = m x N\n",
    "            y - вектор выходов объекта, [y] = N\n",
    "            с0 - вектор начального приближения, [c0] = m+1\n",
    "         ```      \n",
    "    * __def get_coefs()__ - метод возвращает массив коэффициентов оценок вектора параметров объекта, получаемого на каждом новом шаге измерений:\n",
    "        ```\n",
    "        Output:\n",
    "            c_estim_recMLS - массив оценок параметров объекта, полученный в результате работы метода fit.                   ```\n",
    "2. Реализуйте функцию __smooth_errors(c_estim, c_true)__  , вычисляющую сглаженную ошибку оценки по 10 измерениям:\n",
    "$$err(i) = \\sqrt{\\frac{1}{10}\\sum_{k=0}^{9}\\sum_{j=0}^{m} (\\hat{c_j}(i-k)-c_j))^2}$$, где i - номер итерации/измерения, k - номер итерации/измерения, j - порядковый номер параметра объекта.\n",
    "         Input: \n",
    "             c_estim - массив оценок параметров объекта, [c_estim] = m+1 x N\n",
    "             c_true - вектор истинных параметров объекта, [c_true] = m+1 \n",
    "         Output:\n",
    "             err - массив сглаженных ошибок оценки\n",
    "3. Проведите анализ работы (скорость сходимости, точность оценки, см. SMOI_LR_2_description.pdf) алгоритма рекуррентного МНК для получения оценок параметров в зависимости от разничных начальных приближений значений параметров объекта и выбора гиперпараметра λ. Постройте графики сходимости ошибки оценки в зависимотси от номера итерации, оформите отчет по лабораторной работе."
   ]
  },
  {
   "cell_type": "code",
   "execution_count": null,
   "metadata": {},
   "outputs": [],
   "source": []
  }
 ],
 "metadata": {
  "kernelspec": {
   "display_name": "Python 3",
   "language": "python",
   "name": "python3"
  },
  "language_info": {
   "codemirror_mode": {
    "name": "ipython",
    "version": 3
   },
   "file_extension": ".py",
   "mimetype": "text/x-python",
   "name": "python",
   "nbconvert_exporter": "python",
   "pygments_lexer": "ipython3",
   "version": "3.7.3"
  }
 },
 "nbformat": 4,
 "nbformat_minor": 2
}
